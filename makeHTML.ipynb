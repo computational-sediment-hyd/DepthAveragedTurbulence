{
 "cells": [
  {
   "cell_type": "code",
   "execution_count": null,
   "id": "6b937dd6",
   "metadata": {},
   "outputs": [],
   "source": [
    "import numpy as np\n",
    "import xarray as xr\n",
    "import hvplot.xarray\n",
    "import glob"
   ]
  },
  {
   "cell_type": "markdown",
   "id": "9cea9074",
   "metadata": {},
   "source": [
    "# only case1"
   ]
  },
  {
   "cell_type": "code",
   "execution_count": null,
   "id": "446b3088",
   "metadata": {},
   "outputs": [],
   "source": [
    "fs = glob.glob('out0*.nc')\n",
    "fs.sort()"
   ]
  },
  {
   "cell_type": "code",
   "execution_count": null,
   "id": "903b963d",
   "metadata": {},
   "outputs": [],
   "source": [
    "for nn, f in enumerate(fs):\n",
    "    ds = xr.open_dataset(f)\n",
    "    U = ds['u'].values\n",
    "    V = ds['v'].values\n",
    "    Vmag = np.sqrt( U**2 + V**2) + 0.00000001\n",
    "    angle = (np.pi/2.) - np.arctan2(U/Vmag, V/Vmag)\n",
    "    \n",
    "    dx, dy = 1.0, 1.0\n",
    "    omega = np.zeros_like(U)\n",
    "    for i in range(1, ds.dims['x']-1):\n",
    "        for j in range(1, ds.dims['y']-1):\n",
    "            omega[i,j] = (V[i+1,j] - V[i-1,j])/2.0/dx - (U[i,j+1] - U[i,j-1])/2.0/dy \n",
    "    \n",
    "    dss = xr.Dataset( { 'Vmag': (['x','y'], Vmag), 'angle': (['x','y'], angle), 'omega': (['x','y'], omega) }\n",
    "                       , coords={ 'x':ds['x'] , 'y':ds['y']}\n",
    "                    ) \n",
    "    \n",
    "    # vstep = 10 #間引き間隔\n",
    "    dssp = dss.isel(x=slice(0,dss.dims['x'],20), y=slice(0,dss.dims['y'],5))\n",
    "    \n",
    "    figVec = dssp.hvplot.vectorfield(frame_width=1400, frame_height=100, x='x', y='y', angle='angle', mag='Vmag',hover=False).opts(magnitude='Vmag', scale=0.2, color='k')\n",
    "    \n",
    "    f = (dss['Vmag'].hvplot(x='x', y='y', cmap='reds', clim=(0,4.2), title='velocity')*figVec \\\n",
    "     + dss['omega'].hvplot(x='x', y='y', cmap='bwr',frame_width=1400, frame_height=100, clim=(-0.5,0.5), title='vorticity')).cols(1)\n",
    "    \n",
    "    fo = f.options(title=str(int(ds.total_second))+'sec')\n",
    "    out = hvplot.save(fo, 'out' + str(nn).zfill(8) + '.html')\n",
    "    \n",
    "del out"
   ]
  },
  {
   "cell_type": "markdown",
   "id": "22e8df08",
   "metadata": {},
   "source": [
    "# case1 and case2"
   ]
  },
  {
   "cell_type": "code",
   "execution_count": null,
   "id": "219d0ffa",
   "metadata": {},
   "outputs": [],
   "source": [
    "def makefig(f,ncase):\n",
    "    ds = xr.open_dataset(f)\n",
    "    U = ds['u'].values\n",
    "    V = ds['v'].values\n",
    "    Vmag = np.sqrt( U**2 + V**2) + 0.00000001\n",
    "    angle = (np.pi/2.) - np.arctan2(U/Vmag, V/Vmag)\n",
    "    \n",
    "    dx, dy = 1.0, 1.0\n",
    "    omega = np.zeros_like(U)\n",
    "    for i in range(1, ds.dims['x']-1):\n",
    "        for j in range(1, ds.dims['y']-1):\n",
    "            omega[i,j] = (V[i+1,j] - V[i-1,j])/2.0/dx - (U[i,j+1] - U[i,j-1])/2.0/dy \n",
    "    \n",
    "    dss = xr.Dataset( { 'Vmag': (['x','y'], Vmag), 'angle': (['x','y'], angle), 'omega': (['x','y'], omega) }\n",
    "                       , coords={ 'x':ds['x'] , 'y':ds['y']}\n",
    "                    ) \n",
    "    \n",
    "    # vstep = 10 #間引き間隔\n",
    "    dssp = dss.isel(x=slice(0,dss.dims['x'],20), y=slice(0,dss.dims['y'],5))\n",
    "    \n",
    "    figVec = dssp.hvplot.vectorfield(frame_width=1400, frame_height=100, x='x', y='y', angle='angle', mag='Vmag',hover=False).opts(magnitude='Vmag', scale=0.2, color='k')\n",
    "    \n",
    "#     f = (dss['Vmag'].hvplot(x='x', y='y', cmap='reds', clim=(0,4.2), title='velocity')*figVec \\\n",
    "#      + dss['omega'].hvplot(x='x', y='y', cmap='bwr',frame_width=1400, frame_height=100, clim=(-0.5,0.5), title='vorticity')).cols(1)\n",
    "    \n",
    "    f1 = dss['Vmag'].hvplot(x='x', y='y', cmap='reds', clim=(0,4.2), title=ncase + ':velocity')*figVec\n",
    "    f2 = dss['omega'].hvplot(x='x', y='y', cmap='bwr',frame_width=1400, frame_height=100, clim=(-0.5,0.5), title=ncase +':vorticity')\n",
    "    \n",
    "    return f1, f2, ds.total_second"
   ]
  },
  {
   "cell_type": "code",
   "execution_count": null,
   "id": "41e04c77",
   "metadata": {},
   "outputs": [],
   "source": [
    "# fs = glob.glob('friction_const/out0*.nc')\n",
    "fs1 = glob.glob('case1_zeroEq/out0*.nc')\n",
    "fs1.sort()\n",
    "fs2 = glob.glob('out0*.nc')\n",
    "fs2.sort()\n",
    "\n",
    "nn = 0\n",
    "for f1, f2 in zip(fs1, fs2):\n",
    "    f1vel, f1vor, time = makefig(f1, 'case1')\n",
    "    f2vel, f2vor, time = makefig(f2, 'case2')\n",
    "    f = (f1vel + f1vor + f2vel + f2vor).cols(1)\n",
    "    fo = f.options(title=str(int(time))+'sec')\n",
    "    out = hvplot.save(fo, 'out' + str(nn).zfill(8) + '.html')\n",
    "    nn += 1\n",
    "    \n",
    "del out"
   ]
  },
  {
   "cell_type": "markdown",
   "id": "2d4b8653",
   "metadata": {},
   "source": [
    "# manning"
   ]
  },
  {
   "cell_type": "code",
   "execution_count": null,
   "id": "4a3472ea",
   "metadata": {},
   "outputs": [],
   "source": [
    "fs1 = glob.glob('case1_zeroEq/out0*.nc')\n",
    "f = fs1[0]\n",
    "\n",
    "ds = xr.open_dataset(f)\n",
    "cManning = np.full_like(ds['u'].values, 0.025, dtype=np.float64)\n",
    "cManning[:,:30] = 0.1\n",
    "\n",
    "ds[\"manning\"] = xr.DataArray(cManning, coords=[('x',ds['x']),('y',ds['y'])])"
   ]
  },
  {
   "cell_type": "code",
   "execution_count": null,
   "id": "3b4f8f32",
   "metadata": {},
   "outputs": [],
   "source": [
    "fig = ds['manning'].hvplot(x='x', y='y', cmap='bwr',frame_width=1400, frame_height=100)\n",
    "#                             , clim=(-0.5,0.5), title=ncase +':vorticity')"
   ]
  },
  {
   "cell_type": "code",
   "execution_count": null,
   "id": "fe01f013",
   "metadata": {},
   "outputs": [],
   "source": [
    "hvplot.save(fig, 'manning.png')"
   ]
  }
 ],
 "metadata": {
  "kernelspec": {
   "display_name": "Python 3",
   "language": "python",
   "name": "python3"
  },
  "language_info": {
   "codemirror_mode": {
    "name": "ipython",
    "version": 3
   },
   "file_extension": ".py",
   "mimetype": "text/x-python",
   "name": "python",
   "nbconvert_exporter": "python",
   "pygments_lexer": "ipython3",
   "version": "3.7.10"
  },
  "toc": {
   "base_numbering": 1,
   "nav_menu": {},
   "number_sections": true,
   "sideBar": true,
   "skip_h1_title": false,
   "title_cell": "Table of Contents",
   "title_sidebar": "Contents",
   "toc_cell": false,
   "toc_position": {},
   "toc_section_display": true,
   "toc_window_display": false
  }
 },
 "nbformat": 4,
 "nbformat_minor": 5
}
