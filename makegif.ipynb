{
 "cells": [
  {
   "cell_type": "code",
   "execution_count": 2,
   "id": "3c098b99",
   "metadata": {},
   "outputs": [],
   "source": [
    "from selenium import webdriver\n",
    "# import chromedriver_binary\n",
    "import glob \n",
    "import time\n",
    "import os"
   ]
  },
  {
   "cell_type": "markdown",
   "id": "3b62f24a",
   "metadata": {},
   "source": [
    "# html to png"
   ]
  },
  {
   "cell_type": "code",
   "execution_count": 15,
   "id": "385e1ebd",
   "metadata": {},
   "outputs": [],
   "source": [
    "path = ''\n",
    "fdir = os.getcwd()"
   ]
  },
  {
   "cell_type": "code",
   "execution_count": 16,
   "id": "fe6909f9",
   "metadata": {},
   "outputs": [],
   "source": [
    "fs = glob.glob(path + \"*.html\")\n",
    "    \n",
    "# driver = webdriver.Chrome()\n",
    "driver = webdriver.Chrome('chromedriver.exe')\n",
    "\n",
    "for f in fs:\n",
    "    # 通常モードでサイズのずれをなくす方法\n",
    "#     driver = webdriver.Chrome()\n",
    "    h_add = driver.execute_script(\"return window.outerHeight - window.innerHeight;\")\n",
    "    w_add = driver.execute_script(\"return window.outerWidth - window.innerWidth;\")\n",
    "\n",
    "    driver.get(r'file:///' + fdir + '\\\\' + f)\n",
    "#     driver.set_window_size(1560 + w_add, 430 + h_add)  # outerWidth, outerHeight を指定する\n",
    "    driver.set_window_size(1560 + w_add, 780 + h_add)  # outerWidth, outerHeight を指定する\n",
    "    \n",
    "    time.sleep(2) # 秒\n",
    "    \n",
    "    driver.save_screenshot(f[:-4] + 'png')  # 取得される画像サイズは innerWidth x innerHeight\n",
    "#     driver.close()\n",
    "\n",
    "driver.quit()"
   ]
  },
  {
   "cell_type": "markdown",
   "id": "01c01b67",
   "metadata": {},
   "source": [
    "# png 2 gif "
   ]
  },
  {
   "cell_type": "code",
   "execution_count": 30,
   "id": "16126e7a",
   "metadata": {},
   "outputs": [],
   "source": [
    "from PIL import Image"
   ]
  },
  {
   "cell_type": "code",
   "execution_count": 31,
   "id": "1b40557f",
   "metadata": {},
   "outputs": [],
   "source": [
    "fs = glob.glob(path + \"*.png\")\n",
    "imgs = [Image.open(f) for f in fs]\n",
    "\n",
    "# appendした画像配列をGIFにする。durationで持続時間、loopでループ数を指定可能。\n",
    "d= imgs[0].save(path + 'out.gif',\n",
    "             save_all=True, append_images=imgs[1:], optimize=False, duration=100, loop=0)\n",
    "del d"
   ]
  }
 ],
 "metadata": {
  "kernelspec": {
   "display_name": "Python 3",
   "language": "python",
   "name": "python3"
  },
  "language_info": {
   "codemirror_mode": {
    "name": "ipython",
    "version": 3
   },
   "file_extension": ".py",
   "mimetype": "text/x-python",
   "name": "python",
   "nbconvert_exporter": "python",
   "pygments_lexer": "ipython3",
   "version": "3.7.10"
  },
  "toc": {
   "base_numbering": 1,
   "nav_menu": {},
   "number_sections": true,
   "sideBar": true,
   "skip_h1_title": false,
   "title_cell": "Table of Contents",
   "title_sidebar": "Contents",
   "toc_cell": false,
   "toc_position": {},
   "toc_section_display": true,
   "toc_window_display": false
  }
 },
 "nbformat": 4,
 "nbformat_minor": 5
}
